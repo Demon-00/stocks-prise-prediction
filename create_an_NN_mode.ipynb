{
 "cells": [
  {
   "attachments": {},
   "cell_type": "markdown",
   "metadata": {},
   "source": [
    "Euro and USD stocks prediction..."
   ]
  },
  {
   "attachments": {},
   "cell_type": "markdown",
   "metadata": {},
   "source": [
    "Import all Needed Libraries for the model..."
   ]
  },
  {
   "cell_type": "code",
   "execution_count": 73,
   "metadata": {
    "ExecuteTime": {
     "end_time": "2023-05-22T12:52:09.264296Z",
     "start_time": "2023-05-22T12:52:07.838047Z"
    }
   },
   "outputs": [
    {
     "name": "stdout",
     "output_type": "stream",
     "text": [
      "               Date     Open     High      Low    Close  Volume\n",
      "0  2020-12-02 09:53  1.20584  1.20586  1.20577  1.20583     263\n",
      "1  2020-12-02 09:54  1.20583  1.20586  1.20577  1.20577     230\n",
      "2  2020-12-02 09:55  1.20575  1.20589  1.20569  1.20586     268\n",
      "3  2020-12-02 10:00  1.20536  1.20564  1.20530  1.20552     298\n",
      "4  2020-12-02 10:01  1.20551  1.20563  1.20525  1.20542     481\n",
      "Done\n"
     ]
    }
   ],
   "source": [
    "import pandas as pd\n",
    "import numpy as np\n",
    "import tensorflow as tf\n",
    "from sklearn.model_selection import train_test_split\n",
    "from sklearn.preprocessing import MinMaxScaler\n",
    "from tensorflow.keras.models import save_model\n",
    "from tensorflow.keras.models import load_model\n",
    "\n",
    "# Load Euro and USD stocks data into Pandas DataFrame\n",
    "df = pd.read_csv('test1.csv')\n",
    "\n",
    "print(df.head())\n",
    "print(\"Done\")"
   ]
  },
  {
   "attachments": {},
   "cell_type": "markdown",
   "metadata": {},
   "source": [
    "To preprossing the data..."
   ]
  },
  {
   "cell_type": "code",
   "execution_count": 74,
   "metadata": {
    "collapsed": false
   },
   "outputs": [
    {
     "name": "stdout",
     "output_type": "stream",
     "text": [
      "Done\n"
     ]
    }
   ],
   "source": [
    "# Check for missing values\n",
    "df.isnull().sum()\n",
    "\n",
    "# Handle missing values by dropping rows with missing values\n",
    "df.dropna(inplace=True)\n",
    "\n",
    "# Identify categorical variables\n",
    "categorical_vars = ['Date']\n",
    "\n",
    "# Perform one-hot encoding on categorical variables\n",
    "for var in categorical_vars:\n",
    "    dummies = pd.get_dummies(df[var], prefix=var)\n",
    "    df = pd.concat([df, dummies], axis=1)\n",
    "    df.drop(var, axis=1, inplace=True)\n",
    "\n",
    "# Normalize the data using min-max scaling\n",
    "scaler = MinMaxScaler()\n",
    "df[['Open', 'High', 'Low', 'Close', 'Volume']] = scaler.fit_transform(df[['Open', 'High', 'Low', 'Close', 'Volume']])\n",
    "\n",
    "print(\"Done\")"
   ]
  },
  {
   "attachments": {},
   "cell_type": "markdown",
   "metadata": {},
   "source": [
    "To split the dataset into training and testing dataset..."
   ]
  },
  {
   "cell_type": "code",
   "execution_count": 75,
   "metadata": {},
   "outputs": [
    {
     "name": "stdout",
     "output_type": "stream",
     "text": [
      "Done\n"
     ]
    }
   ],
   "source": [
    "# Split the data into training and testing sets\n",
    "X = df.drop('Close', axis=1)\n",
    "y = df['Close']\n",
    "X_train, X_test, y_train, y_test = train_test_split(X, y, test_size=0.15)\n",
    "\n",
    "print(\"Done\")"
   ]
  },
  {
   "attachments": {},
   "cell_type": "markdown",
   "metadata": {},
   "source": [
    "Define the Neural Network and train it..."
   ]
  },
  {
   "cell_type": "code",
   "execution_count": 76,
   "metadata": {},
   "outputs": [
    {
     "name": "stdout",
     "output_type": "stream",
     "text": [
      "Epoch 1/10\n",
      "266/266 [==============================] - 12s 30ms/step - loss: 0.0178\n",
      "Epoch 2/10\n",
      "266/266 [==============================] - 8s 29ms/step - loss: 0.0027\n",
      "Epoch 3/10\n",
      "266/266 [==============================] - 8s 30ms/step - loss: 0.0014\n",
      "Epoch 4/10\n",
      "266/266 [==============================] - 8s 29ms/step - loss: 6.2887e-04\n",
      "Epoch 5/10\n",
      "266/266 [==============================] - 9s 32ms/step - loss: 3.3090e-04\n",
      "Epoch 6/10\n",
      "266/266 [==============================] - 9s 33ms/step - loss: 2.1988e-04\n",
      "Epoch 7/10\n",
      "266/266 [==============================] - 8s 30ms/step - loss: 1.5787e-04\n",
      "Epoch 8/10\n",
      "266/266 [==============================] - 8s 30ms/step - loss: 1.4588e-04\n",
      "Epoch 9/10\n",
      "266/266 [==============================] - 9s 34ms/step - loss: 1.3964e-04\n",
      "Epoch 10/10\n",
      "266/266 [==============================] - 9s 32ms/step - loss: 1.4593e-04\n",
      "Done\n"
     ]
    }
   ],
   "source": [
    "# Define the neural network architecture\n",
    "# try a different amounts of layers and try to stop at the point where the error in minimum......................\n",
    "model = tf.keras.Sequential([\n",
    "    tf.keras.layers.Dense(128, activation='relu'),\n",
    "    tf.keras.layers.Dense(64, activation='relu'),\n",
    "    tf.keras.layers.Dense(32, activation='relu'),\n",
    "    tf.keras.layers.Dense(1)\n",
    "])\n",
    "\n",
    "# Compile the model\n",
    "model.compile(optimizer='adam', loss='mse')\n",
    "\n",
    "# Train the model on the training set\n",
    "X_train = X_train.astype(float)\n",
    "y_train = y_train.astype(float)\n",
    "model.fit(X_train, y_train, epochs=10)\n",
    "\n",
    "print(\"Done\")"
   ]
  },
  {
   "attachments": {},
   "cell_type": "markdown",
   "metadata": {},
   "source": [
    "Evaluate the performance of the Neural Network..."
   ]
  },
  {
   "cell_type": "code",
   "execution_count": 77,
   "metadata": {},
   "outputs": [
    {
     "name": "stdout",
     "output_type": "stream",
     "text": [
      "47/47 [==============================] - 0s 4ms/step - loss: 6.3654e-04\n",
      "Done\n"
     ]
    }
   ],
   "source": [
    "# Evaluate the performance of the model on the testing set\n",
    "X_test = X_test.astype(float)\n",
    "y_test = y_test.astype(float)\n",
    "mse = model.evaluate(X_test, y_test)\n",
    "\n",
    "print(\"Done\")\n",
    "# 8.2152e-04"
   ]
  },
  {
   "attachments": {},
   "cell_type": "markdown",
   "metadata": {},
   "source": [
    "Save the model as file..."
   ]
  },
  {
   "cell_type": "code",
   "execution_count": 78,
   "metadata": {},
   "outputs": [
    {
     "name": "stdout",
     "output_type": "stream",
     "text": [
      "Done\n"
     ]
    }
   ],
   "source": [
    "# Save the trained model to a file\n",
    "filename = 'NN_model.h5'\n",
    "save_model(model, filename)\n",
    "\n",
    "print(\"Done\")"
   ]
  },
  {
   "attachments": {},
   "cell_type": "markdown",
   "metadata": {},
   "source": [
    "To get the summary of the NN..."
   ]
  },
  {
   "cell_type": "code",
   "execution_count": 79,
   "metadata": {},
   "outputs": [
    {
     "name": "stdout",
     "output_type": "stream",
     "text": [
      "Model: \"sequential_16\"\n",
      "_________________________________________________________________\n",
      " Layer (type)                Output Shape              Param #   \n",
      "=================================================================\n",
      " dense_49 (Dense)            (None, 128)               1280640   \n",
      "                                                                 \n",
      " dense_50 (Dense)            (None, 64)                8256      \n",
      "                                                                 \n",
      " dense_51 (Dense)            (None, 32)                2080      \n",
      "                                                                 \n",
      " dense_52 (Dense)            (None, 1)                 33        \n",
      "                                                                 \n",
      "=================================================================\n",
      "Total params: 1,291,009\n",
      "Trainable params: 1,291,009\n",
      "Non-trainable params: 0\n",
      "_________________________________________________________________\n",
      "None\n",
      "Done\n"
     ]
    }
   ],
   "source": [
    "# Load the model from file\n",
    "model = load_model('./NN_model.h5')\n",
    "# Print the model summary\n",
    "print(model.summary())\n",
    "\n",
    "print(\"Done\")"
   ]
  }
 ],
 "metadata": {
  "kernelspec": {
   "display_name": "Python 3",
   "language": "python",
   "name": "python3"
  },
  "language_info": {
   "codemirror_mode": {
    "name": "ipython",
    "version": 3
   },
   "file_extension": ".py",
   "mimetype": "text/x-python",
   "name": "python",
   "nbconvert_exporter": "python",
   "pygments_lexer": "ipython3",
   "version": "3.11.2"
  },
  "orig_nbformat": 4,
  "vscode": {
   "interpreter": {
    "hash": "87c7be4dff236368a8568580279bb7fe9d93492e8fc92078d2b6640cf6ec3b6e"
   }
  }
 },
 "nbformat": 4,
 "nbformat_minor": 2
}
